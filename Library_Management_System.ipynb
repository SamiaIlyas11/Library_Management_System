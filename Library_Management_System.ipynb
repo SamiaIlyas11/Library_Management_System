{
  "nbformat": 4,
  "nbformat_minor": 0,
  "metadata": {
    "colab": {
      "provenance": []
    },
    "kernelspec": {
      "name": "python3",
      "display_name": "Python 3"
    },
    "language_info": {
      "name": "python"
    }
  },
  "cells": [
    {
      "cell_type": "code",
      "source": [
        "import json\n",
        "import datetime\n",
        "\n",
        "# file for storing data\n",
        "ADMIN_FILE = '/content/admin.json'\n",
        "BOOKS_FILE = '/content/book.json'"
      ],
      "metadata": {
        "id": "8mCsWFX7RPMw"
      },
      "execution_count": null,
      "outputs": []
    },
    {
      "cell_type": "code",
      "source": [
        "def admin_login():\n",
        "    admin_data = load_admin_data()\n",
        "    password = input(\"Enter admin password: \")\n",
        "    if password == admin_data['admin']['password']:\n",
        "        print(\"Login successful\")\n",
        "        return True\n",
        "    else:\n",
        "        print(\"Incorrect password\")\n",
        "        return False\n",
        "\n",
        "def change_password():\n",
        "    admin_data = load_admin_data()\n",
        "    current_password = input(\"Enter current password: \")\n",
        "    if current_password == admin_data['admin']['password']:\n",
        "        new_password = input(\"Enter new password: \")\n",
        "        admin_data['admin']['password'] = new_password\n",
        "        save_admin_data(admin_data)\n",
        "        print(\"Password changed successfully\")\n",
        "    else:\n",
        "        print(\"Incorrect password\")"
      ],
      "metadata": {
        "id": "O0lJc5xLPEIB"
      },
      "execution_count": null,
      "outputs": []
    },
    {
      "cell_type": "code",
      "source": [
        "# Load data from files\n",
        "def load_admin_data():\n",
        "    with open(ADMIN_FILE, 'r') as f:\n",
        "        return json.load(f)\n",
        "\n",
        "def save_admin_data(data):\n",
        "    with open(ADMIN_FILE, 'w') as f:\n",
        "        json.dump(data, f)\n",
        "\n",
        "def load_books():\n",
        "    with open(BOOKS_FILE, 'r') as f:\n",
        "        return json.load(f)\n",
        "\n",
        "def save_books(books):\n",
        "    with open(BOOKS_FILE, 'w') as f:\n",
        "        json.dump(books, f)\n"
      ],
      "metadata": {
        "id": "oaYjKSWcO_kH"
      },
      "execution_count": null,
      "outputs": []
    },
    {
      "cell_type": "code",
      "source": [
        "#add book\n",
        "def add_book():\n",
        "    books = load_books()\n",
        "    title = input(\"Enter book title: \")\n",
        "    author = input(\"Enter book author: \")\n",
        "    book_id = len(books) + 1\n",
        "    books.append({\"id\": book_id, \"title\": title, \"author\": author, \"issued_to\": None, \"issue_date\": None})\n",
        "    save_books(books)\n",
        "    print(f\"Book '{title}' added successfully\")"
      ],
      "metadata": {
        "id": "Id27dK7VPJfr"
      },
      "execution_count": null,
      "outputs": []
    },
    {
      "cell_type": "code",
      "source": [
        "#issue book\n",
        "def issue_book():\n",
        "    books = load_books()\n",
        "    book_id = int(input(\"Enter book ID to issue: \"))\n",
        "    student_name = input(\"Enter student name: \")\n",
        "\n",
        "    for book in books:\n",
        "        if book[\"id\"] == book_id:\n",
        "            if book[\"issued_to\"] is not None:\n",
        "                print(\"Book is already issued\")\n",
        "                return\n",
        "            book[\"issued_to\"] = student_name\n",
        "            book[\"issue_date\"] = str(datetime.date.today())\n",
        "            save_books(books)\n",
        "            print(f\"Book ID {book_id} issued to {student_name}\")\n",
        "            return\n",
        "    print(\"Book not found\")"
      ],
      "metadata": {
        "id": "YN56HXJlPLud"
      },
      "execution_count": null,
      "outputs": []
    },
    {
      "cell_type": "code",
      "source": [
        "#edit book\n",
        "def edit_book():\n",
        "    books = load_books()\n",
        "    book_id = int(input(\"Enter book ID to edit: \"))\n",
        "\n",
        "    for book in books:\n",
        "        if book[\"id\"] == book_id:\n",
        "            book[\"title\"] = input(f\"Enter new title (current: {book['title']}): \")\n",
        "            book[\"author\"] = input(f\"Enter new author (current: {book['author']}): \")\n",
        "            save_books(books)\n",
        "            print(f\"Book ID {book_id} updated successfully\")\n",
        "            return\n",
        "    print(\"Book not found\")"
      ],
      "metadata": {
        "id": "HT3dBWmgPSwI"
      },
      "execution_count": null,
      "outputs": []
    },
    {
      "cell_type": "code",
      "source": [
        "#return book\n",
        "def return_book():\n",
        "    books = load_books()\n",
        "    book_id = int(input(\"Enter book ID to return: \"))\n",
        "\n",
        "    for book in books:\n",
        "        if book[\"id\"] == book_id:\n",
        "            if book[\"issued_to\"] is None:\n",
        "                print(\"Book is not issued to anyone\")\n",
        "                return\n",
        "            issue_date = datetime.datetime.strptime(book[\"issue_date\"], '%Y-%m-%d').date()\n",
        "            return_date = datetime.date.today()\n",
        "            days_issued = (return_date - issue_date).days\n",
        "            fine = max(0, days_issued - 14)  # Assume 14 days limit for returning a book\n",
        "            book[\"issued_to\"] = None\n",
        "            book[\"issue_date\"] = None\n",
        "            save_books(books)\n",
        "            print(f\"Book ID {book_id} returned. Fine: ${fine}\")\n",
        "            return\n",
        "    print(\"Book not found\")"
      ],
      "metadata": {
        "id": "cn0wJdRnPUWR"
      },
      "execution_count": null,
      "outputs": []
    },
    {
      "cell_type": "code",
      "source": [
        "#delete book\n",
        "def delete_book():\n",
        "    books = load_books()\n",
        "    book_id = int(input(\"Enter book ID to delete: \"))\n",
        "\n",
        "    for book in books:\n",
        "        if book[\"id\"] == book_id:\n",
        "            books.remove(book)\n",
        "            save_books(books)\n",
        "            print(f\"Book ID {book_id} deleted successfully\")\n",
        "            return\n",
        "    print(\"Book not found\")"
      ],
      "metadata": {
        "id": "nvykdK_wPUQm"
      },
      "execution_count": null,
      "outputs": []
    },
    {
      "cell_type": "code",
      "source": [
        "#search book\n",
        "def search_book():\n",
        "    books = load_books()\n",
        "    query = input(\"Enter book title or author to search: \").lower()\n",
        "\n",
        "    for book in books:\n",
        "        if query in book[\"title\"].lower() or query in book[\"author\"].lower():\n",
        "            print(f\"ID: {book['id']}, Title: {book['title']}, Author: {book['author']}, Issued to: {book['issued_to']}\")\n",
        "            return\n",
        "    print(\"Book not found\")"
      ],
      "metadata": {
        "id": "7Icw2IdyPbAC"
      },
      "execution_count": null,
      "outputs": []
    },
    {
      "cell_type": "code",
      "source": [
        "#catalog\n",
        "def show_book():\n",
        "    books = load_books()\n",
        "    for book in books:\n",
        "        print(f\"ID: {book['id']}, Title: {book['title']}, Author: {book['author']}, Issued to: {book['issued_to']}\")"
      ],
      "metadata": {
        "id": "NNP8oCeGPcEi"
      },
      "execution_count": null,
      "outputs": []
    },
    {
      "cell_type": "code",
      "source": [
        "#Dashboard\n",
        "def dashboard():\n",
        "    while True:\n",
        "        print(\"\\nDashboard\")\n",
        "        print(\"1. Add Books\")\n",
        "        print(\"2. Issue Books\")\n",
        "        print(\"3. Edit Books\")\n",
        "        print(\"4. Return Books\")\n",
        "        print(\"5. Delete Books\")\n",
        "        print(\"6. Search Books\")\n",
        "        print(\"7. Show Books\")\n",
        "        print(\"8. Change Password\")\n",
        "        print(\"9. Log out\")\n",
        "\n",
        "        choice = int(input(\"Enter your choice: \"))\n",
        "\n",
        "        if choice == 1:\n",
        "            add_book()\n",
        "        elif choice == 2:\n",
        "            issue_book()\n",
        "        elif choice == 3:\n",
        "            edit_book()\n",
        "        elif choice == 4:\n",
        "            return_book()\n",
        "        elif choice == 5:\n",
        "            delete_book()\n",
        "        elif choice == 6:\n",
        "            search_book()\n",
        "        elif choice == 7:\n",
        "            show_book()\n",
        "        elif choice == 8:\n",
        "            change_password()\n",
        "        elif choice == 9:\n",
        "            print(\"Logged out\")\n",
        "            break\n",
        "        else:\n",
        "            print(\"Invalid choice, please try again\")\n",
        "\n",
        "\n",
        "if admin_login():\n",
        "  dashboard()\n"
      ],
      "metadata": {
        "colab": {
          "base_uri": "https://localhost:8080/"
        },
        "id": "WUbp2ha3RXCv",
        "outputId": "4795d3a7-f923-4aab-bcde-44feb7948035"
      },
      "execution_count": null,
      "outputs": [
        {
          "output_type": "stream",
          "name": "stdout",
          "text": [
            "Enter admin password: ilyas456\n",
            "Login successful\n",
            "\n",
            "Dashboard\n",
            "1. Add Books\n",
            "2. Issue Books\n",
            "3. Edit Books\n",
            "4. Return Books\n",
            "5. Delete Books\n",
            "6. Search Books\n",
            "7. Show Books\n",
            "8. Change Password\n",
            "9. Log out\n",
            "Enter your choice: 1\n",
            "Enter book title: Python\n",
            "Enter book author: Samia\n",
            "Book 'Python' added successfully\n",
            "\n",
            "Dashboard\n",
            "1. Add Books\n",
            "2. Issue Books\n",
            "3. Edit Books\n",
            "4. Return Books\n",
            "5. Delete Books\n",
            "6. Search Books\n",
            "7. Show Books\n",
            "8. Change Password\n",
            "9. Log out\n",
            "Enter your choice: 7\n",
            "ID: 1, Title: Python, Author: Samia, Issued to: None\n",
            "\n",
            "Dashboard\n",
            "1. Add Books\n",
            "2. Issue Books\n",
            "3. Edit Books\n",
            "4. Return Books\n",
            "5. Delete Books\n",
            "6. Search Books\n",
            "7. Show Books\n",
            "8. Change Password\n",
            "9. Log out\n",
            "Enter your choice: 2\n",
            "Enter book ID to issue: 1\n",
            "Enter student name: Mustafa\n",
            "Book ID 1 issued to Mustafa\n",
            "\n",
            "Dashboard\n",
            "1. Add Books\n",
            "2. Issue Books\n",
            "3. Edit Books\n",
            "4. Return Books\n",
            "5. Delete Books\n",
            "6. Search Books\n",
            "7. Show Books\n",
            "8. Change Password\n",
            "9. Log out\n",
            "Enter your choice: 9\n",
            "Logged out\n"
          ]
        }
      ]
    }
  ]
}